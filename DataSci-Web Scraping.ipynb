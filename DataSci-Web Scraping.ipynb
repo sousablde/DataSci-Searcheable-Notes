{
 "cells": [
  {
   "cell_type": "markdown",
   "metadata": {},
   "source": [
    "## Use cases\n",
    "### Eg\n",
    "### Existing Blog -> New Blog resources page\n",
    "### E-commerce store automation\n",
    "### Hydrological analysis\n",
    "### Emergency resource allocation planning\n",
    "### Oil and gas production intel\n",
    "\n",
    "## 4 Beautiful Soup Object Types\n",
    "### BeautifulSoup object\n",
    "### Tag object\n",
    "### Navigable object\n",
    "### Comment object"
   ]
  },
  {
   "cell_type": "markdown",
   "metadata": {},
   "source": [
    "## Working with objects"
   ]
  },
  {
   "cell_type": "code",
   "execution_count": 1,
   "metadata": {},
   "outputs": [
    {
     "name": "stdout",
     "output_type": "stream",
     "text": [
      "Requirement already satisfied: BeautifulSoup4 in c:\\programdata\\anaconda3\\lib\\site-packages (4.7.1)\n",
      "Requirement already satisfied: soupsieve>=1.2 in c:\\programdata\\anaconda3\\lib\\site-packages (from BeautifulSoup4) (1.8)\n"
     ]
    }
   ],
   "source": [
    "! pip install BeautifulSoup4"
   ]
  },
  {
   "cell_type": "code",
   "execution_count": 2,
   "metadata": {},
   "outputs": [],
   "source": [
    "from bs4 import BeautifulSoup"
   ]
  },
  {
   "cell_type": "markdown",
   "metadata": {},
   "source": [
    "### Looking at a beautiful soup object\n"
   ]
  },
  {
   "cell_type": "code",
   "execution_count": 3,
   "metadata": {},
   "outputs": [],
   "source": [
    "html_doc = '''\n",
    "<html><head><title>Best Books</title></head>\n",
    "<body>\n",
    "<p class='title'><b>DATA SCIENCE FOR DUMMIES</b></p>\n",
    "\n",
    "<p class='description'>Jobs in data science abound, but few people have the data science skills needed to fill these increasingly important roles in organizations. Data Science For Dummies is the pe\n",
    "<br><br>\n",
    "Edition 1 of this book:\n",
    "        <br>\n",
    " <ul>\n",
    "  <li>Provides a background in data science fundamentals before moving on to working with relational databases and unstructured data and preparing your data for analysis</li>\n",
    "  <li>Details different data visualization techniques that can be used to showcase and summarize your data</li>\n",
    "  <li>Explains both supervised and unsupervised machine learning, including regression, model validation, and clustering techniques</li>\n",
    "  <li>Includes coverage of big data processing tools like MapReduce, Hadoop, Storm, and Spark</li>   \n",
    "  </ul>\n",
    "<br><br>\n",
    "What to do next:\n",
    "<br>\n",
    "<a href='http://www.data-mania.com/blog/books-by-lillian-pierson/' class = 'preview' id='link 1'>See a preview of the book</a>,\n",
    "<a href='http://www.data-mania.com/blog/data-science-for-dummies-answers-what-is-data-science/' class = 'preview' id='link 2'>get the free pdf download,</a> and then\n",
    "<a href='http://bit.ly/Data-Science-For-Dummies' class = 'preview' id='link 3'>buy the book!</a> \n",
    "</p>\n",
    "\n",
    "<p class='description'>...</p>\n",
    "'''"
   ]
  },
  {
   "cell_type": "markdown",
   "metadata": {},
   "source": [
    "### By default the constructor will try to figure out what type a parser we need, but in this case we will try to pick a parser ourselves\n",
    "### Beautiful soup transforms the markupinto a parse tree which is a set of linked objects representing the structure of the document "
   ]
  },
  {
   "cell_type": "code",
   "execution_count": 4,
   "metadata": {},
   "outputs": [
    {
     "name": "stdout",
     "output_type": "stream",
     "text": [
      "\n",
      "<html><head><title>Best Books</title></head>\n",
      "<body>\n",
      "<p class=\"title\"><b>DATA SCIENCE FOR DUMMIES</b></p>\n",
      "<p class=\"description\">Jobs in data science abound, but few people have the data science skills needed to fill these increasingly important roles in organizations. Data Science For Dummies is the pe\n",
      "<br/><br/>\n",
      "Edition 1 of this book:\n",
      "        <br/>\n",
      "<ul>\n",
      "<li>Provides a background in data science fundamentals before moving on to working with relational databases and unstructured data and preparing your data for analysis</li>\n",
      "<li>Details different data visualization techniques that can be used to showcase and summarize your data</li>\n",
      "<li>Explains both supervised and unsupervised machine learning, including regression, model validation, and clustering techniques</li>\n",
      "<li>Includes coverage of big data processing tools like MapReduce, Hadoop, Storm, and Spark</li>\n",
      "</ul>\n",
      "<br/><br/>\n",
      "What to do next:\n",
      "<br/>\n",
      "<a class=\"preview\" href=\"http://www.data-mania.com/blog/books-by-lillian-pierson/\" id=\"link 1\">See a preview of the book</a>,\n",
      "<a class=\"preview\" href=\"http://www.data-mania.com/blog/data-science-for-dummies-answers-what-is-data-science/\" id=\"link 2\">get the free pdf download,</a> and then\n",
      "<a class=\"preview\" href=\"http://bit.ly/Data-Science-For-Dummies\" id=\"link 3\">buy the book!</a>\n",
      "</p>\n",
      "<p class=\"description\">...</p>\n",
      "</body></html>\n"
     ]
    }
   ],
   "source": [
    "soup = BeautifulSoup(html_doc, 'html.parser')\n",
    "print(soup)"
   ]
  },
  {
   "cell_type": "markdown",
   "metadata": {},
   "source": [
    "### we will make the code easier to read by calling prettify"
   ]
  },
  {
   "cell_type": "code",
   "execution_count": 5,
   "metadata": {},
   "outputs": [
    {
     "name": "stdout",
     "output_type": "stream",
     "text": [
      "<html>\n",
      " <head>\n",
      "  <title>\n",
      "   Best Books\n",
      "  </title>\n",
      " </head>\n",
      " <body>\n",
      "  <p class=\"title\">\n",
      "   <b>\n",
      "    DATA SCIENCE FOR DUMMIES\n",
      "   </b>\n",
      "  </p>\n",
      "  <p class=\"description\">\n",
      "   Jobs in data science abound, but few people have the data science skills needed to fill these increasingly important roles in organizations. Data Science For Dummies is the pe\n",
      "   <br/\n"
     ]
    }
   ],
   "source": [
    "print (soup.prettify()[0:350])"
   ]
  },
  {
   "cell_type": "markdown",
   "metadata": {},
   "source": [
    "## tag objects: represent html or xml markers present in the original markup document, tag objects have 2 important features: name and attributes \n",
    "\n",
    "### attributes can be used to reference, search and navigate data by tag in beautiful soup"
   ]
  },
  {
   "cell_type": "code",
   "execution_count": 6,
   "metadata": {},
   "outputs": [
    {
     "data": {
      "text/plain": [
       "bs4.element.Tag"
      ]
     },
     "execution_count": 6,
     "metadata": {},
     "output_type": "execute_result"
    }
   ],
   "source": [
    "soup = BeautifulSoup('<b body=\"description\"\">Product Description</b>', 'html')\n",
    "\n",
    "tag=soup.b\n",
    "type(tag)"
   ]
  },
  {
   "cell_type": "code",
   "execution_count": 7,
   "metadata": {},
   "outputs": [
    {
     "name": "stdout",
     "output_type": "stream",
     "text": [
      "<b body=\"description\">Product Description</b>\n"
     ]
    }
   ],
   "source": [
    "print (tag)"
   ]
  },
  {
   "cell_type": "code",
   "execution_count": 8,
   "metadata": {},
   "outputs": [
    {
     "data": {
      "text/plain": [
       "'b'"
      ]
     },
     "execution_count": 8,
     "metadata": {},
     "output_type": "execute_result"
    }
   ],
   "source": [
    "tag.name"
   ]
  },
  {
   "cell_type": "code",
   "execution_count": 9,
   "metadata": {},
   "outputs": [
    {
     "data": {
      "text/plain": [
       "<bestbooks body=\"description\">Product Description</bestbooks>"
      ]
     },
     "execution_count": 9,
     "metadata": {},
     "output_type": "execute_result"
    }
   ],
   "source": [
    "tag.name = 'bestbooks'\n",
    "tag"
   ]
  },
  {
   "cell_type": "code",
   "execution_count": 10,
   "metadata": {},
   "outputs": [
    {
     "data": {
      "text/plain": [
       "'bestbooks'"
      ]
     },
     "execution_count": 10,
     "metadata": {},
     "output_type": "execute_result"
    }
   ],
   "source": [
    "tag.name"
   ]
  },
  {
   "cell_type": "markdown",
   "metadata": {},
   "source": [
    "### working with attributes"
   ]
  },
  {
   "cell_type": "code",
   "execution_count": 11,
   "metadata": {},
   "outputs": [
    {
     "data": {
      "text/plain": [
       "'description'"
      ]
     },
     "execution_count": 11,
     "metadata": {},
     "output_type": "execute_result"
    }
   ],
   "source": [
    "tag['body']"
   ]
  },
  {
   "cell_type": "code",
   "execution_count": 12,
   "metadata": {},
   "outputs": [
    {
     "data": {
      "text/plain": [
       "{'body': 'description'}"
      ]
     },
     "execution_count": 12,
     "metadata": {},
     "output_type": "execute_result"
    }
   ],
   "source": [
    "# returns a dictionary of all the attributes\n",
    "tag.attrs"
   ]
  },
  {
   "cell_type": "code",
   "execution_count": 13,
   "metadata": {},
   "outputs": [
    {
     "data": {
      "text/plain": [
       "{'body': 'description', 'id': 3}"
      ]
     },
     "execution_count": 13,
     "metadata": {},
     "output_type": "execute_result"
    }
   ],
   "source": [
    "#adding an attribute to a tag, in this case the attribute id\n",
    "tag['id'] = 3\n",
    "tag.attrs"
   ]
  },
  {
   "cell_type": "code",
   "execution_count": 14,
   "metadata": {},
   "outputs": [
    {
     "data": {
      "text/plain": [
       "<bestbooks body=\"description\" id=\"3\">Product Description</bestbooks>"
      ]
     },
     "execution_count": 14,
     "metadata": {},
     "output_type": "execute_result"
    }
   ],
   "source": [
    "tag"
   ]
  },
  {
   "cell_type": "code",
   "execution_count": 15,
   "metadata": {},
   "outputs": [
    {
     "data": {
      "text/plain": [
       "<bestbooks>Product Description</bestbooks>"
      ]
     },
     "execution_count": 15,
     "metadata": {},
     "output_type": "execute_result"
    }
   ],
   "source": [
    "#deleting an attribute from a tag, in this case deleting the body and id attribute\n",
    "del tag['body']\n",
    "del tag['id']\n",
    "tag"
   ]
  },
  {
   "cell_type": "code",
   "execution_count": 16,
   "metadata": {},
   "outputs": [
    {
     "data": {
      "text/plain": [
       "{}"
      ]
     },
     "execution_count": 16,
     "metadata": {},
     "output_type": "execute_result"
    }
   ],
   "source": [
    "# printing again for check it returns an empty dictionary post deletion\n",
    "tag.attrs"
   ]
  },
  {
   "cell_type": "markdown",
   "metadata": {},
   "source": [
    "### Using tags to navigate a tree "
   ]
  },
  {
   "cell_type": "code",
   "execution_count": 17,
   "metadata": {},
   "outputs": [],
   "source": [
    "html_doc = '''\n",
    "<html><head><title>Best Books</title></head>\n",
    "<body>\n",
    "<p class='title'><b>DATA SCIENCE FOR DUMMIES</b></p>\n",
    "\n",
    "<p class='description'>Jobs in data science abound, but few people have the data science skills needed to fill these increasingly important roles in organizations. Data Science For Dummies is the pe\n",
    "<br><br>\n",
    "Edition 1 of this book:\n",
    "        <br>\n",
    " <ul>\n",
    "  <li>Provides a background in data science fundamentals before moving on to working with relational databases and unstructured data and preparing your data for analysis</li>\n",
    "  <li>Details different data visualization techniques that can be used to showcase and summarize your data</li>\n",
    "  <li>Explains both supervised and unsupervised machine learning, including regression, model validation, and clustering techniques</li>\n",
    "  <li>Includes coverage of big data processing tools like MapReduce, Hadoop, Storm, and Spark</li>   \n",
    "  </ul>\n",
    "<br><br>\n",
    "What to do next:\n",
    "<br>\n",
    "<a href='http://www.data-mania.com/blog/books-by-lillian-pierson/' class = 'preview' id='link 1'>See a preview of the book</a>,\n",
    "<a href='http://www.data-mania.com/blog/data-science-for-dummies-answers-what-is-data-science/' class = 'preview' id='link 2'>get the free pdf download,</a> and then\n",
    "<a href='http://bit.ly/Data-Science-For-Dummies' class = 'preview' id='link 3'>buy the book!</a> \n",
    "</p>\n",
    "\n",
    "<p class='description'>...</p>\n",
    "'''\n",
    "soup = BeautifulSoup(html_doc, 'html.parser')"
   ]
  },
  {
   "cell_type": "code",
   "execution_count": 18,
   "metadata": {},
   "outputs": [
    {
     "data": {
      "text/plain": [
       "<head><title>Best Books</title></head>"
      ]
     },
     "execution_count": 18,
     "metadata": {},
     "output_type": "execute_result"
    }
   ],
   "source": [
    "#retrieving tags \n",
    "soup.head"
   ]
  },
  {
   "cell_type": "code",
   "execution_count": 19,
   "metadata": {},
   "outputs": [
    {
     "data": {
      "text/plain": [
       "<title>Best Books</title>"
      ]
     },
     "execution_count": 19,
     "metadata": {},
     "output_type": "execute_result"
    }
   ],
   "source": [
    "#retrieving the title tag\n",
    "soup.title"
   ]
  },
  {
   "cell_type": "code",
   "execution_count": 20,
   "metadata": {},
   "outputs": [
    {
     "data": {
      "text/plain": [
       "<b>DATA SCIENCE FOR DUMMIES</b>"
      ]
     },
     "execution_count": 20,
     "metadata": {},
     "output_type": "execute_result"
    }
   ],
   "source": [
    "#isolating the b tag from the body tag to retrieve the title\n",
    "soup.body.b"
   ]
  },
  {
   "cell_type": "code",
   "execution_count": 21,
   "metadata": {},
   "outputs": [
    {
     "data": {
      "text/plain": [
       "<body>\n",
       "<p class=\"title\"><b>DATA SCIENCE FOR DUMMIES</b></p>\n",
       "<p class=\"description\">Jobs in data science abound, but few people have the data science skills needed to fill these increasingly important roles in organizations. Data Science For Dummies is the pe\n",
       "<br/><br/>\n",
       "Edition 1 of this book:\n",
       "        <br/>\n",
       "<ul>\n",
       "<li>Provides a background in data science fundamentals before moving on to working with relational databases and unstructured data and preparing your data for analysis</li>\n",
       "<li>Details different data visualization techniques that can be used to showcase and summarize your data</li>\n",
       "<li>Explains both supervised and unsupervised machine learning, including regression, model validation, and clustering techniques</li>\n",
       "<li>Includes coverage of big data processing tools like MapReduce, Hadoop, Storm, and Spark</li>\n",
       "</ul>\n",
       "<br/><br/>\n",
       "What to do next:\n",
       "<br/>\n",
       "<a class=\"preview\" href=\"http://www.data-mania.com/blog/books-by-lillian-pierson/\" id=\"link 1\">See a preview of the book</a>,\n",
       "<a class=\"preview\" href=\"http://www.data-mania.com/blog/data-science-for-dummies-answers-what-is-data-science/\" id=\"link 2\">get the free pdf download,</a> and then\n",
       "<a class=\"preview\" href=\"http://bit.ly/Data-Science-For-Dummies\" id=\"link 3\">buy the book!</a>\n",
       "</p>\n",
       "<p class=\"description\">...</p>\n",
       "</body>"
      ]
     },
     "execution_count": 21,
     "metadata": {},
     "output_type": "execute_result"
    }
   ],
   "source": [
    "soup.body"
   ]
  },
  {
   "cell_type": "code",
   "execution_count": 22,
   "metadata": {},
   "outputs": [
    {
     "data": {
      "text/plain": [
       "<ul>\n",
       "<li>Provides a background in data science fundamentals before moving on to working with relational databases and unstructured data and preparing your data for analysis</li>\n",
       "<li>Details different data visualization techniques that can be used to showcase and summarize your data</li>\n",
       "<li>Explains both supervised and unsupervised machine learning, including regression, model validation, and clustering techniques</li>\n",
       "<li>Includes coverage of big data processing tools like MapReduce, Hadoop, Storm, and Spark</li>\n",
       "</ul>"
      ]
     },
     "execution_count": 22,
     "metadata": {},
     "output_type": "execute_result"
    }
   ],
   "source": [
    "soup.ul"
   ]
  },
  {
   "cell_type": "code",
   "execution_count": 23,
   "metadata": {},
   "outputs": [
    {
     "data": {
      "text/plain": [
       "<a class=\"preview\" href=\"http://www.data-mania.com/blog/books-by-lillian-pierson/\" id=\"link 1\">See a preview of the book</a>"
      ]
     },
     "execution_count": 23,
     "metadata": {},
     "output_type": "execute_result"
    }
   ],
   "source": [
    "soup.a"
   ]
  },
  {
   "cell_type": "markdown",
   "metadata": {},
   "source": [
    "# NavigableString Objects"
   ]
  },
  {
   "cell_type": "code",
   "execution_count": 24,
   "metadata": {},
   "outputs": [],
   "source": [
    "from bs4 import BeautifulSoup"
   ]
  },
  {
   "cell_type": "markdown",
   "metadata": {},
   "source": [
    "### Beautiful soup object"
   ]
  },
  {
   "cell_type": "code",
   "execution_count": 25,
   "metadata": {},
   "outputs": [],
   "source": [
    "soup = BeautifulSoup('<b body=\"description\">Product description</b>')"
   ]
  },
  {
   "cell_type": "markdown",
   "metadata": {},
   "source": [
    "### NavigableString objects"
   ]
  },
  {
   "cell_type": "code",
   "execution_count": 26,
   "metadata": {},
   "outputs": [
    {
     "data": {
      "text/plain": [
       "bs4.element.Tag"
      ]
     },
     "execution_count": 26,
     "metadata": {},
     "output_type": "execute_result"
    }
   ],
   "source": [
    "tag= soup.b\n",
    "type(tag)"
   ]
  },
  {
   "cell_type": "code",
   "execution_count": 27,
   "metadata": {},
   "outputs": [
    {
     "data": {
      "text/plain": [
       "'b'"
      ]
     },
     "execution_count": 27,
     "metadata": {},
     "output_type": "execute_result"
    }
   ],
   "source": [
    "tag.name"
   ]
  },
  {
   "cell_type": "code",
   "execution_count": 28,
   "metadata": {},
   "outputs": [
    {
     "data": {
      "text/plain": [
       "'Product description'"
      ]
     },
     "execution_count": 28,
     "metadata": {},
     "output_type": "execute_result"
    }
   ],
   "source": [
    "tag.string"
   ]
  },
  {
   "cell_type": "code",
   "execution_count": 29,
   "metadata": {},
   "outputs": [
    {
     "data": {
      "text/plain": [
       "bs4.element.NavigableString"
      ]
     },
     "execution_count": 29,
     "metadata": {},
     "output_type": "execute_result"
    }
   ],
   "source": [
    "type(tag.string)"
   ]
  },
  {
   "cell_type": "code",
   "execution_count": 30,
   "metadata": {},
   "outputs": [
    {
     "data": {
      "text/plain": [
       "'Product description'"
      ]
     },
     "execution_count": 30,
     "metadata": {},
     "output_type": "execute_result"
    }
   ],
   "source": [
    "nav_string = tag.string\n",
    "nav_string"
   ]
  },
  {
   "cell_type": "code",
   "execution_count": 31,
   "metadata": {},
   "outputs": [
    {
     "data": {
      "text/plain": [
       "'Null'"
      ]
     },
     "execution_count": 31,
     "metadata": {},
     "output_type": "execute_result"
    }
   ],
   "source": [
    "nav_string.replace_with('Null')\n",
    "tag.string"
   ]
  },
  {
   "cell_type": "markdown",
   "metadata": {},
   "source": [
    "#### Working with NavigableString objects"
   ]
  },
  {
   "cell_type": "code",
   "execution_count": 32,
   "metadata": {},
   "outputs": [],
   "source": [
    "html_doc = '''\n",
    "<html><head><title>Best Books</title></head>\n",
    "<body>\n",
    "<p class='title'><b>DATA SCIENCE FOR DUMMIES</b></p>\n",
    "\n",
    "<p class='description'>Jobs in data science abound, but few people have the data science skills needed to fill these increasingly important roles in organizations. Data Science For Dummies is the pe\n",
    "<br><br>\n",
    "Edition 1 of this book:\n",
    "        <br>\n",
    " <ul>\n",
    "  <li>Provides a background in data science fundamentals before moving on to working with relational databases and unstructured data and preparing your data for analysis</li>\n",
    "  <li>Details different data visualization techniques that can be used to showcase and summarize your data</li>\n",
    "  <li>Explains both supervised and unsupervised machine learning, including regression, model validation, and clustering techniques</li>\n",
    "  <li>Includes coverage of big data processing tools like MapReduce, Hadoop, Storm, and Spark</li>   \n",
    "  </ul>\n",
    "<br><br>\n",
    "What to do next:\n",
    "<br>\n",
    "<a href='http://www.data-mania.com/blog/books-by-lillian-pierson/' class = 'preview' id='link 1'>See a preview of the book</a>,\n",
    "<a href='http://www.data-mania.com/blog/data-science-for-dummies-answers-what-is-data-science/' class = 'preview' id='link 2'>get the free pdf download,</a> and then\n",
    "<a href='http://bit.ly/Data-Science-For-Dummies' class = 'preview' id='link 3'>buy the book!</a> \n",
    "</p>\n",
    "\n",
    "<p class='description'>...</p>\n",
    "'''\n",
    "soup = BeautifulSoup(html_doc, 'html.parser')"
   ]
  },
  {
   "cell_type": "code",
   "execution_count": 33,
   "metadata": {},
   "outputs": [
    {
     "name": "stdout",
     "output_type": "stream",
     "text": [
      "'Best Books'\n",
      "'DATA SCIENCE FOR DUMMIES'\n",
      "'Jobs in data science abound, but few people have the data science skills needed to fill these increasingly important roles in organizations. Data Science For Dummies is the pe'\n",
      "'Edition 1 of this book:'\n",
      "'Provides a background in data science fundamentals before moving on to working with relational databases and unstructured data and preparing your data for analysis'\n",
      "'Details different data visualization techniques that can be used to showcase and summarize your data'\n",
      "'Explains both supervised and unsupervised machine learning, including regression, model validation, and clustering techniques'\n",
      "'Includes coverage of big data processing tools like MapReduce, Hadoop, Storm, and Spark'\n",
      "'What to do next:'\n",
      "'See a preview of the book'\n",
      "','\n",
      "'get the free pdf download,'\n",
      "'and then'\n",
      "'buy the book!'\n",
      "'...'\n"
     ]
    }
   ],
   "source": [
    "for string in soup.stripped_strings: print(repr(string))"
   ]
  },
  {
   "cell_type": "code",
   "execution_count": 34,
   "metadata": {},
   "outputs": [
    {
     "data": {
      "text/plain": [
       "<title>Best Books</title>"
      ]
     },
     "execution_count": 34,
     "metadata": {},
     "output_type": "execute_result"
    }
   ],
   "source": [
    "title_tag = soup.title\n",
    "title_tag"
   ]
  },
  {
   "cell_type": "code",
   "execution_count": 35,
   "metadata": {},
   "outputs": [
    {
     "data": {
      "text/plain": [
       "<head><title>Best Books</title></head>"
      ]
     },
     "execution_count": 35,
     "metadata": {},
     "output_type": "execute_result"
    }
   ],
   "source": [
    "title_tag.parent"
   ]
  },
  {
   "cell_type": "code",
   "execution_count": 36,
   "metadata": {},
   "outputs": [
    {
     "data": {
      "text/plain": [
       "'Best Books'"
      ]
     },
     "execution_count": 36,
     "metadata": {},
     "output_type": "execute_result"
    }
   ],
   "source": [
    "title_tag.string"
   ]
  },
  {
   "cell_type": "code",
   "execution_count": 37,
   "metadata": {},
   "outputs": [
    {
     "data": {
      "text/plain": [
       "<title>Best Books</title>"
      ]
     },
     "execution_count": 37,
     "metadata": {},
     "output_type": "execute_result"
    }
   ],
   "source": [
    "title_tag.string.parent"
   ]
  },
  {
   "cell_type": "markdown",
   "metadata": {},
   "source": [
    "# Working with parsed data in beautiful soup\n",
    "### Parsing data: an html or xml document is just passed to the BeautifulSoup() constructor\n",
    "### The constructor converts the document to unicode and then parses it with a built-in HTML parser (by default)\n",
    "### Printing data that's in a parse tree\n",
    "### Searching and retrieving data from parse tree\n",
    "\n",
    "## Searching and retrieving data\n",
    "### find_all() method\n",
    "### searches a tag and its descendents to retrieve tags or strings that match your filters\n",
    "\n",
    "## Methods for searching and filtering a parse tree\n",
    "### name argument, keyword argument, string argument, lists, booleans, strings and regular expressions \n",
    "### all of these can be passed to find_all() and return either their strings or tags"
   ]
  },
  {
   "cell_type": "code",
   "execution_count": 38,
   "metadata": {},
   "outputs": [],
   "source": [
    "import pandas as pd\n",
    "\n",
    "from bs4 import BeautifulSoup\n",
    "\n",
    "import re"
   ]
  },
  {
   "cell_type": "code",
   "execution_count": 39,
   "metadata": {},
   "outputs": [],
   "source": [
    "r = '''\n",
    "<html><head><title>Best Books</title></head>\n",
    "<body>\n",
    "<p class='title'><b>DATA SCIENCE FOR DUMMIES</b></p>\n",
    "\n",
    "<p class='description'>Jobs in data science abound, but few people have the data science skills needed to fill these increasingly important roles in organizations. Data Science For Dummies is the pe\n",
    "<br><br>\n",
    "Edition 1 of this book:\n",
    "        <br>\n",
    " <ul>\n",
    "  <li>Provides a background in data science fundamentals before moving on to working with relational databases and unstructured data and preparing your data for analysis</li>\n",
    "  <li>Details different data visualization techniques that can be used to showcase and summarize your data</li>\n",
    "  <li>Explains both supervised and unsupervised machine learning, including regression, model validation, and clustering techniques</li>\n",
    "  <li>Includes coverage of big data processing tools like MapReduce, Hadoop, Storm, and Spark</li>   \n",
    "  </ul>\n",
    "<br><br>\n",
    "What to do next:\n",
    "<br>\n",
    "<a href='http://www.data-mania.com/blog/books-by-lillian-pierson/' class = 'preview' id='link 1'>See a preview of the book</a>,\n",
    "<a href='http://www.data-mania.com/blog/data-science-for-dummies-answers-what-is-data-science/' class = 'preview' id='link 2'>get the free pdf download,</a> and then\n",
    "<a href='http://bit.ly/Data-Science-For-Dummies' class = 'preview' id='link 3'>buy the book!</a> \n",
    "</p>\n",
    "\n",
    "<p class='description'>...</p>\n",
    "'''"
   ]
  },
  {
   "cell_type": "markdown",
   "metadata": {},
   "source": [
    "### converting html to beautiful soup object"
   ]
  },
  {
   "cell_type": "code",
   "execution_count": 40,
   "metadata": {},
   "outputs": [
    {
     "data": {
      "text/plain": [
       "bs4.BeautifulSoup"
      ]
     },
     "execution_count": 40,
     "metadata": {},
     "output_type": "execute_result"
    }
   ],
   "source": [
    "soup = BeautifulSoup(r, 'lxml')\n",
    "type(soup)"
   ]
  },
  {
   "cell_type": "markdown",
   "metadata": {},
   "source": [
    "### Parsing the data, retrieving the first 100 elements"
   ]
  },
  {
   "cell_type": "code",
   "execution_count": 42,
   "metadata": {},
   "outputs": [
    {
     "name": "stdout",
     "output_type": "stream",
     "text": [
      "<html>\n",
      " <head>\n",
      "  <title>\n",
      "   Best Books\n",
      "  </title>\n",
      " </head>\n",
      " <body>\n",
      "  <p class=\"title\">\n",
      "   <b>\n",
      "    DA\n"
     ]
    }
   ],
   "source": [
    "print (soup.prettify()[0:100])"
   ]
  },
  {
   "cell_type": "markdown",
   "metadata": {},
   "source": [
    "### retrieving only the text from the htm document"
   ]
  },
  {
   "cell_type": "code",
   "execution_count": 43,
   "metadata": {},
   "outputs": [
    {
     "name": "stdout",
     "output_type": "stream",
     "text": [
      "Best Books\n",
      "\n",
      "DATA SCIENCE FOR DUMMIES\n",
      "Jobs in data science abound, but few people have the data science skills needed to fill these increasingly important roles in organizations. Data Science For Dummies is the pe\n",
      "\n",
      "Edition 1 of this book:\n",
      "        \n",
      "\n",
      "Provides a background in data science fundamentals before moving on to working with relational databases and unstructured data and preparing your data for analysis\n",
      "Details different data visualization techniques that can be used to showcase and summarize your data\n",
      "Explains both supervised and unsupervised machine learning, including regression, model validation, and clustering techniques\n",
      "Includes coverage of big data processing tools like MapReduce, Hadoop, Storm, and Spark\n",
      "\n",
      "\n",
      "What to do next:\n",
      "\n",
      "See a preview of the book,\n",
      "get the free pdf download, and then\n",
      "buy the book!\n",
      "...\n",
      "\n"
     ]
    }
   ],
   "source": [
    "text_only = soup.get_text()\n",
    "print(text_only)"
   ]
  },
  {
   "cell_type": "markdown",
   "metadata": {},
   "source": [
    "### Search and retrieve the data from a parse tree\n",
    "#### using name arguments"
   ]
  },
  {
   "cell_type": "code",
   "execution_count": 44,
   "metadata": {},
   "outputs": [
    {
     "data": {
      "text/plain": [
       "[<li>Provides a background in data science fundamentals before moving on to working with relational databases and unstructured data and preparing your data for analysis</li>,\n",
       " <li>Details different data visualization techniques that can be used to showcase and summarize your data</li>,\n",
       " <li>Explains both supervised and unsupervised machine learning, including regression, model validation, and clustering techniques</li>,\n",
       " <li>Includes coverage of big data processing tools like MapReduce, Hadoop, Storm, and Spark</li>]"
      ]
     },
     "execution_count": 44,
     "metadata": {},
     "output_type": "execute_result"
    }
   ],
   "source": [
    "soup.find_all(\"li\")"
   ]
  },
  {
   "cell_type": "markdown",
   "metadata": {},
   "source": [
    "#### filtering with keywords, retrieving all the elements with a 3 in it"
   ]
  },
  {
   "cell_type": "code",
   "execution_count": 45,
   "metadata": {},
   "outputs": [
    {
     "data": {
      "text/plain": [
       "[<a class=\"preview\" href=\"http://bit.ly/Data-Science-For-Dummies\" id=\"link 3\">buy the book!</a>]"
      ]
     },
     "execution_count": 45,
     "metadata": {},
     "output_type": "execute_result"
    }
   ],
   "source": [
    "soup.find_all(id=\"link 3\")"
   ]
  },
  {
   "cell_type": "markdown",
   "metadata": {},
   "source": [
    "#### retrieve tags using strings, in this case all the strings ul"
   ]
  },
  {
   "cell_type": "code",
   "execution_count": 46,
   "metadata": {},
   "outputs": [
    {
     "data": {
      "text/plain": [
       "[<ul>\n",
       " <li>Provides a background in data science fundamentals before moving on to working with relational databases and unstructured data and preparing your data for analysis</li>\n",
       " <li>Details different data visualization techniques that can be used to showcase and summarize your data</li>\n",
       " <li>Explains both supervised and unsupervised machine learning, including regression, model validation, and clustering techniques</li>\n",
       " <li>Includes coverage of big data processing tools like MapReduce, Hadoop, Storm, and Spark</li>\n",
       " </ul>]"
      ]
     },
     "execution_count": 46,
     "metadata": {},
     "output_type": "execute_result"
    }
   ],
   "source": [
    "soup.find_all('ul')"
   ]
  },
  {
   "cell_type": "markdown",
   "metadata": {},
   "source": [
    "#### filtering using list objects "
   ]
  },
  {
   "cell_type": "code",
   "execution_count": 47,
   "metadata": {},
   "outputs": [
    {
     "data": {
      "text/plain": [
       "[<b>DATA SCIENCE FOR DUMMIES</b>, <ul>\n",
       " <li>Provides a background in data science fundamentals before moving on to working with relational databases and unstructured data and preparing your data for analysis</li>\n",
       " <li>Details different data visualization techniques that can be used to showcase and summarize your data</li>\n",
       " <li>Explains both supervised and unsupervised machine learning, including regression, model validation, and clustering techniques</li>\n",
       " <li>Includes coverage of big data processing tools like MapReduce, Hadoop, Storm, and Spark</li>\n",
       " </ul>]"
      ]
     },
     "execution_count": 47,
     "metadata": {},
     "output_type": "execute_result"
    }
   ],
   "source": [
    "soup.find_all(['ul', 'b'])"
   ]
  },
  {
   "cell_type": "markdown",
   "metadata": {},
   "source": [
    "#### filtering using reg expressions"
   ]
  },
  {
   "cell_type": "code",
   "execution_count": 48,
   "metadata": {},
   "outputs": [
    {
     "name": "stdout",
     "output_type": "stream",
     "text": [
      "html\n",
      "title\n",
      "ul\n",
      "li\n",
      "li\n",
      "li\n",
      "li\n"
     ]
    }
   ],
   "source": [
    "l = re.compile('l')\n",
    "for tag in soup.find_all(l): print(tag.name)"
   ]
  },
  {
   "cell_type": "markdown",
   "metadata": {},
   "source": [
    "#### filtering using boolean values"
   ]
  },
  {
   "cell_type": "code",
   "execution_count": 49,
   "metadata": {},
   "outputs": [
    {
     "name": "stdout",
     "output_type": "stream",
     "text": [
      "html\n",
      "head\n",
      "title\n",
      "body\n",
      "p\n",
      "b\n",
      "p\n",
      "br\n",
      "br\n",
      "br\n",
      "ul\n",
      "li\n",
      "li\n",
      "li\n",
      "li\n",
      "br\n",
      "br\n",
      "br\n",
      "a\n",
      "a\n",
      "a\n",
      "p\n"
     ]
    }
   ],
   "source": [
    "for tag in soup.find_all(True): print(tag.name)"
   ]
  },
  {
   "cell_type": "markdown",
   "metadata": {},
   "source": [
    "#### filtering based on string objects"
   ]
  },
  {
   "cell_type": "code",
   "execution_count": 50,
   "metadata": {},
   "outputs": [
    {
     "name": "stdout",
     "output_type": "stream",
     "text": [
      "http://www.data-mania.com/blog/books-by-lillian-pierson/\n",
      "http://www.data-mania.com/blog/data-science-for-dummies-answers-what-is-data-science/\n",
      "http://bit.ly/Data-Science-For-Dummies\n"
     ]
    }
   ],
   "source": [
    "for link in soup.find_all('a'): print(link.get('href'))"
   ]
  },
  {
   "cell_type": "markdown",
   "metadata": {},
   "source": [
    "#### retrieving strings filtering with regular expressions"
   ]
  },
  {
   "cell_type": "code",
   "execution_count": 51,
   "metadata": {},
   "outputs": [
    {
     "data": {
      "text/plain": [
       "['Jobs in data science abound, but few people have the data science skills needed to fill these increasingly important roles in organizations. Data Science For Dummies is the pe\\n',\n",
       " 'Provides a background in data science fundamentals before moving on to working with relational databases and unstructured data and preparing your data for analysis',\n",
       " 'Details different data visualization techniques that can be used to showcase and summarize your data',\n",
       " 'Includes coverage of big data processing tools like MapReduce, Hadoop, Storm, and Spark']"
      ]
     },
     "execution_count": 51,
     "metadata": {},
     "output_type": "execute_result"
    }
   ],
   "source": [
    "soup.find_all(string=re.compile(\"data\"))"
   ]
  },
  {
   "cell_type": "markdown",
   "metadata": {},
   "source": [
    "# Web scraping and saving result in txt file"
   ]
  },
  {
   "cell_type": "code",
   "execution_count": 56,
   "metadata": {},
   "outputs": [],
   "source": [
    "from bs4 import BeautifulSoup\n",
    "import urllib\n",
    "import urllib.request\n",
    "import sys\n",
    "import re"
   ]
  },
  {
   "cell_type": "code",
   "execution_count": 59,
   "metadata": {},
   "outputs": [
    {
     "data": {
      "text/plain": [
       "bs4.BeautifulSoup"
      ]
     },
     "execution_count": 59,
     "metadata": {},
     "output_type": "execute_result"
    }
   ],
   "source": [
    "if sys.version_info[0] == 3:\n",
    "    from urllib.request import urlopen\n",
    "else:\n",
    "    # Not Python 3 - today, it is most likely to be Python 2\n",
    "    # But note that this might need an update when Python 4\n",
    "    # might be around one day\n",
    "    from urllib import urlopen\n",
    "url = 'https://analytics.usa.gov'\n",
    "with urlopen(\"http://www.python.org\") as url:\n",
    "    r = url.read()\n",
    "soup = BeautifulSoup(r, \"lxml\")\n",
    "type(soup)"
   ]
  },
  {
   "cell_type": "code",
   "execution_count": 61,
   "metadata": {},
   "outputs": [
    {
     "name": "stdout",
     "output_type": "stream",
     "text": [
      "<!DOCTYPE html>\n",
      "<!--[if lt IE 7]>   <html class=\"no-js ie6 lt-ie7 lt-ie8 lt-ie9\">   <![endif]-->\n",
      "<!-\n"
     ]
    }
   ],
   "source": [
    "print (soup.prettify()[:100])"
   ]
  },
  {
   "cell_type": "code",
   "execution_count": 62,
   "metadata": {},
   "outputs": [
    {
     "name": "stdout",
     "output_type": "stream",
     "text": [
      "#content\n",
      "#python-network\n",
      "/\n",
      "/psf-landing/\n",
      "https://docs.python.org\n",
      "https://pypi.python.org/\n",
      "/jobs/\n",
      "/community/\n",
      "#top\n",
      "/\n",
      "/psf/donations/\n",
      "#site-map\n",
      "#\n",
      "javascript:;\n",
      "javascript:;\n",
      "javascript:;\n",
      "#\n",
      "https://www.facebook.com/pythonlang?fref=ts\n",
      "https://twitter.com/ThePSF\n",
      "/community/irc/\n",
      "/about/\n",
      "/about/apps/\n",
      "/about/quotes/\n",
      "/about/gettingstarted/\n",
      "/about/help/\n",
      "http://brochure.getpython.info/\n",
      "/downloads/\n",
      "/downloads/\n",
      "/downloads/source/\n",
      "/downloads/windows/\n",
      "/downloads/mac-osx/\n",
      "/download/other/\n",
      "https://docs.python.org/3/license.html\n",
      "/download/alternatives\n",
      "/doc/\n",
      "/doc/\n",
      "/doc/av\n",
      "https://wiki.python.org/moin/BeginnersGuide\n",
      "https://devguide.python.org/\n",
      "https://docs.python.org/faq/\n",
      "http://wiki.python.org/moin/Languages\n",
      "http://python.org/dev/peps/\n",
      "https://wiki.python.org/moin/PythonBooks\n",
      "/doc/essays/\n",
      "/community/\n",
      "/community/survey\n",
      "/community/diversity/\n",
      "/community/lists/\n",
      "/community/irc/\n",
      "/community/forums/\n",
      "/psf/annual-report/2019/\n",
      "/community/workshops/\n",
      "/community/sigs/\n",
      "/community/logos/\n",
      "https://wiki.python.org/moin/\n",
      "/community/merchandise/\n",
      "/community/awards\n",
      "https://www.python.org/psf/codeofconduct/\n",
      "/success-stories/\n",
      "/success-stories/category/arts/\n",
      "/success-stories/category/business/\n",
      "/success-stories/category/education/\n",
      "/success-stories/category/engineering/\n",
      "/success-stories/category/government/\n",
      "/success-stories/category/scientific/\n",
      "/success-stories/category/software-development/\n",
      "/blogs/\n",
      "/blogs/\n",
      "http://planetpython.org/\n",
      "http://pyfound.blogspot.com/\n",
      "http://pycon.blogspot.com/\n",
      "/events/\n",
      "/events/python-events\n",
      "/events/python-user-group/\n",
      "/events/python-events/past/\n",
      "/events/python-user-group/past/\n",
      "https://wiki.python.org/moin/PythonEventsCalendar#Submitting_an_Event\n",
      "/shell/\n",
      "//docs.python.org/3/tutorial/controlflow.html#defining-functions\n",
      "//docs.python.org/3/tutorial/introduction.html#lists\n",
      "http://docs.python.org/3/tutorial/introduction.html#using-python-as-a-calculator\n",
      "//docs.python.org/3/tutorial/\n",
      "//docs.python.org/3/tutorial/controlflow.html\n",
      "/doc/\n",
      "/about/gettingstarted/\n",
      "/downloads/release/python-374/\n",
      "https://docs.python.org\n",
      "//jobs.python.org\n",
      "https://blog.python.org\n",
      "https://mailchi.mp/python/psf-2019-q2-newsletter\n",
      "http://feedproxy.google.com/~r/PythonSoftwareFoundationNews/~3/9sGpXmeE1-c/2019-psf-fundraiser-thank-you-debrief.html\n",
      "http://feedproxy.google.com/~r/PythonSoftwareFoundationNews/~3/hf9N-_dx7VQ/the-python-software-foundation-is.html\n",
      "http://feedproxy.google.com/~r/PythonInsider/~3/sm7GYrZZQwM/python-374-is-now-available.html\n",
      "http://feedproxy.google.com/~r/PythonInsider/~3/Xq44of73Mq8/python-380b2-is-now-available-for.html\n",
      "/events/calendars/\n",
      "/events/python-events/776/\n",
      "/events/python-events/792/\n",
      "/events/python-events/847/\n",
      "/events/python-events/854/\n",
      "/events/python-events/846/\n",
      "/success-stories/\n",
      "/success-stories/python-seo-link-analyzer/\n",
      "/success-stories/python-seo-link-analyzer/\n",
      "/about/apps\n",
      "http://www.djangoproject.com/\n",
      "http://www.pylonsproject.org/\n",
      "http://bottlepy.org\n",
      "http://tornadoweb.org\n",
      "http://flask.pocoo.org/\n",
      "http://www.web2py.com/\n",
      "http://wiki.python.org/moin/TkInter\n",
      "https://wiki.gnome.org/Projects/PyGObject\n",
      "http://www.riverbankcomputing.co.uk/software/pyqt/intro\n",
      "https://wiki.qt.io/PySide\n",
      "https://kivy.org/\n",
      "http://www.wxpython.org/\n",
      "http://www.scipy.org\n",
      "http://pandas.pydata.org/\n",
      "http://ipython.org\n",
      "http://buildbot.net/\n",
      "http://trac.edgewall.org/\n",
      "http://roundup.sourceforge.net/\n",
      "http://www.ansible.com\n",
      "http://www.saltstack.com\n",
      "https://www.openstack.org\n",
      "/dev/peps/\n",
      "/dev/peps/peps.rss\n",
      "/psf/\n",
      "/psf/\n",
      "/users/membership/\n",
      "/psf/donations/\n",
      "#python-network\n",
      "/about/\n",
      "/about/apps/\n",
      "/about/quotes/\n",
      "/about/gettingstarted/\n",
      "/about/help/\n",
      "http://brochure.getpython.info/\n",
      "/downloads/\n",
      "/downloads/\n",
      "/downloads/source/\n",
      "/downloads/windows/\n",
      "/downloads/mac-osx/\n",
      "/download/other/\n",
      "https://docs.python.org/3/license.html\n",
      "/download/alternatives\n",
      "/doc/\n",
      "/doc/\n",
      "/doc/av\n",
      "https://wiki.python.org/moin/BeginnersGuide\n",
      "https://devguide.python.org/\n",
      "https://docs.python.org/faq/\n",
      "http://wiki.python.org/moin/Languages\n",
      "http://python.org/dev/peps/\n",
      "https://wiki.python.org/moin/PythonBooks\n",
      "/doc/essays/\n",
      "/community/\n",
      "/community/survey\n",
      "/community/diversity/\n",
      "/community/lists/\n",
      "/community/irc/\n",
      "/community/forums/\n",
      "/psf/annual-report/2019/\n",
      "/community/workshops/\n",
      "/community/sigs/\n",
      "/community/logos/\n",
      "https://wiki.python.org/moin/\n",
      "/community/merchandise/\n",
      "/community/awards\n",
      "https://www.python.org/psf/codeofconduct/\n",
      "/success-stories/\n",
      "/success-stories/category/arts/\n",
      "/success-stories/category/business/\n",
      "/success-stories/category/education/\n",
      "/success-stories/category/engineering/\n",
      "/success-stories/category/government/\n",
      "/success-stories/category/scientific/\n",
      "/success-stories/category/software-development/\n",
      "/blogs/\n",
      "/blogs/\n",
      "http://planetpython.org/\n",
      "http://pyfound.blogspot.com/\n",
      "http://pycon.blogspot.com/\n",
      "/events/\n",
      "/events/python-events\n",
      "/events/python-user-group/\n",
      "/events/python-events/past/\n",
      "/events/python-user-group/past/\n",
      "https://wiki.python.org/moin/PythonEventsCalendar#Submitting_an_Event\n",
      "/dev/\n",
      "https://devguide.python.org/\n",
      "https://bugs.python.org/\n",
      "https://mail.python.org/mailman/listinfo/python-dev\n",
      "/dev/core-mentorship/\n",
      "/news/security/\n",
      "#python-network\n",
      "/about/help/\n",
      "/community/diversity/\n",
      "https://github.com/python/pythondotorg/issues\n",
      "https://status.python.org/\n",
      "/psf-landing/\n",
      "/about/legal/\n",
      "/privacy/\n",
      "/psf/sponsorship/sponsors/#heroku\n"
     ]
    }
   ],
   "source": [
    "for link in soup.find_all('a'): print(link.get('href'))"
   ]
  },
  {
   "cell_type": "code",
   "execution_count": 65,
   "metadata": {},
   "outputs": [
    {
     "name": "stdout",
     "output_type": "stream",
     "text": [
      "<a href=\"https://docs.python.org\" title=\"Python Documentation\">Docs</a>\n",
      "<a href=\"https://pypi.python.org/\" title=\"Python Package Index\">PyPI</a>\n",
      "<a href=\"https://www.facebook.com/pythonlang?fref=ts\"><span aria-hidden=\"true\" class=\"icon-facebook\"></span>Facebook</a>\n",
      "<a href=\"https://twitter.com/ThePSF\"><span aria-hidden=\"true\" class=\"icon-twitter\"></span>Twitter</a>\n",
      "<a href=\"http://brochure.getpython.info/\" title=\"\">Python Brochure</a>\n",
      "<a href=\"https://docs.python.org/3/license.html\" title=\"\">License</a>\n",
      "<a href=\"https://wiki.python.org/moin/BeginnersGuide\" title=\"\">Beginner's Guide</a>\n",
      "<a href=\"https://devguide.python.org/\" title=\"\">Developer's Guide</a>\n",
      "<a href=\"https://docs.python.org/faq/\" title=\"\">FAQ</a>\n",
      "<a href=\"http://wiki.python.org/moin/Languages\" title=\"\">Non-English Docs</a>\n",
      "<a href=\"http://python.org/dev/peps/\" title=\"\">PEP Index</a>\n",
      "<a href=\"https://wiki.python.org/moin/PythonBooks\" title=\"\">Python Books</a>\n",
      "<a href=\"https://wiki.python.org/moin/\" title=\"\">Python Wiki</a>\n",
      "<a href=\"https://www.python.org/psf/codeofconduct/\" title=\"\">Code of Conduct</a>\n",
      "<a href=\"http://planetpython.org/\" title=\"Planet Python\">Community News</a>\n",
      "<a href=\"http://pyfound.blogspot.com/\" title=\"PSF Blog\">PSF News</a>\n",
      "<a href=\"http://pycon.blogspot.com/\" title=\"PyCon Blog\">PyCon News</a>\n",
      "<a href=\"https://wiki.python.org/moin/PythonEventsCalendar#Submitting_an_Event\" title=\"\">Submit an Event</a>\n",
      "<a href=\"http://docs.python.org/3/tutorial/introduction.html#using-python-as-a-calculator\">More about simple math functions in Python 3</a>\n",
      "<a href=\"https://docs.python.org\">docs.python.org</a>\n",
      "<a href=\"https://blog.python.org\" title=\"More News\">More</a>\n",
      "<a href=\"https://mailchi.mp/python/psf-2019-q2-newsletter\">Python Software Foundation - Q2 Newsletter</a>\n",
      "<a href=\"http://feedproxy.google.com/~r/PythonSoftwareFoundationNews/~3/9sGpXmeE1-c/2019-psf-fundraiser-thank-you-debrief.html\">2019 PSF Fundraiser - Thank you &amp; debrief</a>\n",
      "<a href=\"http://feedproxy.google.com/~r/PythonSoftwareFoundationNews/~3/hf9N-_dx7VQ/the-python-software-foundation-is.html\">The Python Software Foundation is looking for bloggers!</a>\n",
      "<a href=\"http://feedproxy.google.com/~r/PythonInsider/~3/sm7GYrZZQwM/python-374-is-now-available.html\">Python 3.7.4 is now available</a>\n",
      "<a href=\"http://feedproxy.google.com/~r/PythonInsider/~3/Xq44of73Mq8/python-380b2-is-now-available-for.html\">Python 3.8.0b2 is now available for testing</a>\n",
      "<a class=\"tag\" href=\"http://www.djangoproject.com/\">Django</a>\n",
      "<a class=\"tag\" href=\"http://www.pylonsproject.org/\">Pyramid</a>\n",
      "<a class=\"tag\" href=\"http://bottlepy.org\">Bottle</a>\n",
      "<a class=\"tag\" href=\"http://tornadoweb.org\">Tornado</a>\n",
      "<a class=\"tag\" href=\"http://flask.pocoo.org/\">Flask</a>\n",
      "<a class=\"tag\" href=\"http://www.web2py.com/\">web2py</a>\n",
      "<a class=\"tag\" href=\"http://wiki.python.org/moin/TkInter\">tkInter</a>\n",
      "<a class=\"tag\" href=\"https://wiki.gnome.org/Projects/PyGObject\">PyGObject</a>\n",
      "<a class=\"tag\" href=\"http://www.riverbankcomputing.co.uk/software/pyqt/intro\">PyQt</a>\n",
      "<a class=\"tag\" href=\"https://wiki.qt.io/PySide\">PySide</a>\n",
      "<a class=\"tag\" href=\"https://kivy.org/\">Kivy</a>\n",
      "<a class=\"tag\" href=\"http://www.wxpython.org/\">wxPython</a>\n",
      "<a class=\"tag\" href=\"http://www.scipy.org\">SciPy</a>\n",
      "<a class=\"tag\" href=\"http://pandas.pydata.org/\">Pandas</a>\n",
      "<a class=\"tag\" href=\"http://ipython.org\">IPython</a>\n",
      "<a class=\"tag\" href=\"http://buildbot.net/\">Buildbot</a>\n",
      "<a class=\"tag\" href=\"http://trac.edgewall.org/\">Trac</a>\n",
      "<a class=\"tag\" href=\"http://roundup.sourceforge.net/\">Roundup</a>\n",
      "<a class=\"tag\" href=\"http://www.ansible.com\">Ansible</a>\n",
      "<a class=\"tag\" href=\"http://www.saltstack.com\">Salt</a>\n",
      "<a class=\"tag\" href=\"https://www.openstack.org\">OpenStack</a>\n",
      "<a href=\"http://brochure.getpython.info/\" title=\"\">Python Brochure</a>\n",
      "<a href=\"https://docs.python.org/3/license.html\" title=\"\">License</a>\n",
      "<a href=\"https://wiki.python.org/moin/BeginnersGuide\" title=\"\">Beginner's Guide</a>\n",
      "<a href=\"https://devguide.python.org/\" title=\"\">Developer's Guide</a>\n",
      "<a href=\"https://docs.python.org/faq/\" title=\"\">FAQ</a>\n",
      "<a href=\"http://wiki.python.org/moin/Languages\" title=\"\">Non-English Docs</a>\n",
      "<a href=\"http://python.org/dev/peps/\" title=\"\">PEP Index</a>\n",
      "<a href=\"https://wiki.python.org/moin/PythonBooks\" title=\"\">Python Books</a>\n",
      "<a href=\"https://wiki.python.org/moin/\" title=\"\">Python Wiki</a>\n",
      "<a href=\"https://www.python.org/psf/codeofconduct/\" title=\"\">Code of Conduct</a>\n",
      "<a href=\"http://planetpython.org/\" title=\"Planet Python\">Community News</a>\n",
      "<a href=\"http://pyfound.blogspot.com/\" title=\"PSF Blog\">PSF News</a>\n",
      "<a href=\"http://pycon.blogspot.com/\" title=\"PyCon Blog\">PyCon News</a>\n",
      "<a href=\"https://wiki.python.org/moin/PythonEventsCalendar#Submitting_an_Event\" title=\"\">Submit an Event</a>\n",
      "<a href=\"https://devguide.python.org/\" title=\"\">Developer's Guide</a>\n",
      "<a href=\"https://bugs.python.org/\" title=\"\">Issue Tracker</a>\n",
      "<a href=\"https://mail.python.org/mailman/listinfo/python-dev\" title=\"\">python-dev list</a>\n",
      "<a href=\"https://github.com/python/pythondotorg/issues\">Submit Website Bug</a>\n",
      "<a href=\"https://status.python.org/\">Status <span class=\"python-status-indicator-default\" id=\"python-status-indicator\"></span></a>\n"
     ]
    }
   ],
   "source": [
    "for link in soup.findAll('a', attrs={'href': re.compile(\"^http\")}): print (link)"
   ]
  },
  {
   "cell_type": "code",
   "execution_count": 70,
   "metadata": {},
   "outputs": [
    {
     "name": "stdout",
     "output_type": "stream",
     "text": [
      "<a href=\"https://docs.python.org\" title=\"Python Documentation\">Docs</a>\n",
      "<a href=\"https://pypi.python.org/\" title=\"Python Package Index\">PyPI</a>\n",
      "<a href=\"https://www.facebook.com/pythonlang?fref=ts\"><span aria-hidden=\"true\" class=\"icon-facebook\"></span>Facebook</a>\n",
      "<a href=\"https://twitter.com/ThePSF\"><span aria-hidden=\"true\" class=\"icon-twitter\"></span>Twitter</a>\n",
      "<a href=\"http://brochure.getpython.info/\" title=\"\">Python Brochure</a>\n",
      "<a href=\"https://docs.python.org/3/license.html\" title=\"\">License</a>\n",
      "<a href=\"https://wiki.python.org/moin/BeginnersGuide\" title=\"\">Beginner's Guide</a>\n",
      "<a href=\"https://devguide.python.org/\" title=\"\">Developer's Guide</a>\n",
      "<a href=\"https://docs.python.org/faq/\" title=\"\">FAQ</a>\n",
      "<a href=\"http://wiki.python.org/moin/Languages\" title=\"\">Non-English Docs</a>\n",
      "<a href=\"http://python.org/dev/peps/\" title=\"\">PEP Index</a>\n",
      "<a href=\"https://wiki.python.org/moin/PythonBooks\" title=\"\">Python Books</a>\n",
      "<a href=\"https://wiki.python.org/moin/\" title=\"\">Python Wiki</a>\n",
      "<a href=\"https://www.python.org/psf/codeofconduct/\" title=\"\">Code of Conduct</a>\n",
      "<a href=\"http://planetpython.org/\" title=\"Planet Python\">Community News</a>\n",
      "<a href=\"http://pyfound.blogspot.com/\" title=\"PSF Blog\">PSF News</a>\n",
      "<a href=\"http://pycon.blogspot.com/\" title=\"PyCon Blog\">PyCon News</a>\n",
      "<a href=\"https://wiki.python.org/moin/PythonEventsCalendar#Submitting_an_Event\" title=\"\">Submit an Event</a>\n",
      "<a href=\"http://docs.python.org/3/tutorial/introduction.html#using-python-as-a-calculator\">More about simple math functions in Python 3</a>\n",
      "<a href=\"https://docs.python.org\">docs.python.org</a>\n",
      "<a href=\"https://blog.python.org\" title=\"More News\">More</a>\n",
      "<a href=\"https://mailchi.mp/python/psf-2019-q2-newsletter\">Python Software Foundation - Q2 Newsletter</a>\n",
      "<a href=\"http://feedproxy.google.com/~r/PythonSoftwareFoundationNews/~3/9sGpXmeE1-c/2019-psf-fundraiser-thank-you-debrief.html\">2019 PSF Fundraiser - Thank you &amp; debrief</a>\n",
      "<a href=\"http://feedproxy.google.com/~r/PythonSoftwareFoundationNews/~3/hf9N-_dx7VQ/the-python-software-foundation-is.html\">The Python Software Foundation is looking for bloggers!</a>\n",
      "<a href=\"http://feedproxy.google.com/~r/PythonInsider/~3/sm7GYrZZQwM/python-374-is-now-available.html\">Python 3.7.4 is now available</a>\n",
      "<a href=\"http://feedproxy.google.com/~r/PythonInsider/~3/Xq44of73Mq8/python-380b2-is-now-available-for.html\">Python 3.8.0b2 is now available for testing</a>\n",
      "<a class=\"tag\" href=\"http://www.djangoproject.com/\">Django</a>\n",
      "<a class=\"tag\" href=\"http://www.pylonsproject.org/\">Pyramid</a>\n",
      "<a class=\"tag\" href=\"http://bottlepy.org\">Bottle</a>\n",
      "<a class=\"tag\" href=\"http://tornadoweb.org\">Tornado</a>\n",
      "<a class=\"tag\" href=\"http://flask.pocoo.org/\">Flask</a>\n",
      "<a class=\"tag\" href=\"http://www.web2py.com/\">web2py</a>\n",
      "<a class=\"tag\" href=\"http://wiki.python.org/moin/TkInter\">tkInter</a>\n",
      "<a class=\"tag\" href=\"https://wiki.gnome.org/Projects/PyGObject\">PyGObject</a>\n",
      "<a class=\"tag\" href=\"http://www.riverbankcomputing.co.uk/software/pyqt/intro\">PyQt</a>\n",
      "<a class=\"tag\" href=\"https://wiki.qt.io/PySide\">PySide</a>\n",
      "<a class=\"tag\" href=\"https://kivy.org/\">Kivy</a>\n",
      "<a class=\"tag\" href=\"http://www.wxpython.org/\">wxPython</a>\n",
      "<a class=\"tag\" href=\"http://www.scipy.org\">SciPy</a>\n",
      "<a class=\"tag\" href=\"http://pandas.pydata.org/\">Pandas</a>\n",
      "<a class=\"tag\" href=\"http://ipython.org\">IPython</a>\n",
      "<a class=\"tag\" href=\"http://buildbot.net/\">Buildbot</a>\n",
      "<a class=\"tag\" href=\"http://trac.edgewall.org/\">Trac</a>\n",
      "<a class=\"tag\" href=\"http://roundup.sourceforge.net/\">Roundup</a>\n",
      "<a class=\"tag\" href=\"http://www.ansible.com\">Ansible</a>\n",
      "<a class=\"tag\" href=\"http://www.saltstack.com\">Salt</a>\n",
      "<a class=\"tag\" href=\"https://www.openstack.org\">OpenStack</a>\n",
      "<a href=\"http://brochure.getpython.info/\" title=\"\">Python Brochure</a>\n",
      "<a href=\"https://docs.python.org/3/license.html\" title=\"\">License</a>\n",
      "<a href=\"https://wiki.python.org/moin/BeginnersGuide\" title=\"\">Beginner's Guide</a>\n",
      "<a href=\"https://devguide.python.org/\" title=\"\">Developer's Guide</a>\n",
      "<a href=\"https://docs.python.org/faq/\" title=\"\">FAQ</a>\n",
      "<a href=\"http://wiki.python.org/moin/Languages\" title=\"\">Non-English Docs</a>\n",
      "<a href=\"http://python.org/dev/peps/\" title=\"\">PEP Index</a>\n",
      "<a href=\"https://wiki.python.org/moin/PythonBooks\" title=\"\">Python Books</a>\n",
      "<a href=\"https://wiki.python.org/moin/\" title=\"\">Python Wiki</a>\n",
      "<a href=\"https://www.python.org/psf/codeofconduct/\" title=\"\">Code of Conduct</a>\n",
      "<a href=\"http://planetpython.org/\" title=\"Planet Python\">Community News</a>\n",
      "<a href=\"http://pyfound.blogspot.com/\" title=\"PSF Blog\">PSF News</a>\n",
      "<a href=\"http://pycon.blogspot.com/\" title=\"PyCon Blog\">PyCon News</a>\n",
      "<a href=\"https://wiki.python.org/moin/PythonEventsCalendar#Submitting_an_Event\" title=\"\">Submit an Event</a>\n",
      "<a href=\"https://devguide.python.org/\" title=\"\">Developer's Guide</a>\n",
      "<a href=\"https://bugs.python.org/\" title=\"\">Issue Tracker</a>\n",
      "<a href=\"https://mail.python.org/mailman/listinfo/python-dev\" title=\"\">python-dev list</a>\n",
      "<a href=\"https://github.com/python/pythondotorg/issues\">Submit Website Bug</a>\n",
      "<a href=\"https://status.python.org/\">Status <span class=\"python-status-indicator-default\" id=\"python-status-indicator\"></span></a>\n"
     ]
    }
   ],
   "source": [
    "file = open('parsed_data.txt', 'wb')\n",
    "for link in soup.findAll('a', attrs={'href': re.compile(\"^http\")}):\n",
    "    soup_link = str(link)\n",
    "    print (soup_link)\n",
    "    file.write(soup_link.encode())\n",
    "file.flush()\n",
    "file.close()"
   ]
  },
  {
   "cell_type": "code",
   "execution_count": null,
   "metadata": {},
   "outputs": [],
   "source": [
    "%pwd"
   ]
  }
 ],
 "metadata": {
  "kernelspec": {
   "display_name": "Python 3",
   "language": "python",
   "name": "python3"
  },
  "language_info": {
   "codemirror_mode": {
    "name": "ipython",
    "version": 3
   },
   "file_extension": ".py",
   "mimetype": "text/x-python",
   "name": "python",
   "nbconvert_exporter": "python",
   "pygments_lexer": "ipython3",
   "version": "3.7.3"
  }
 },
 "nbformat": 4,
 "nbformat_minor": 2
}
